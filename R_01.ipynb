{
 "cells": [
  {
   "cell_type": "code",
   "execution_count": 1,
   "id": "77234b46-84c9-4914-9ac7-3d83cd64ba81",
   "metadata": {},
   "outputs": [
    {
     "name": "stdout",
     "output_type": "stream",
     "text": [
      "[1] \"hello world!\"\n"
     ]
    }
   ],
   "source": [
    "# Printing\n",
    "print(\"hello world!\")"
   ]
  },
  {
   "cell_type": "code",
   "execution_count": 2,
   "id": "1abfdfa1-a963-46cf-9abd-e7bf9ac0b11c",
   "metadata": {},
   "outputs": [
    {
     "data": {
      "text/html": [],
      "text/latex": [],
      "text/markdown": [],
      "text/plain": [
       "character(0)"
      ]
     },
     "metadata": {},
     "output_type": "display_data"
    },
    {
     "data": {
      "text/html": [
       "'C:/Git/angelobattaglia/r_notebooks'"
      ],
      "text/latex": [
       "'C:/Git/angelobattaglia/r\\_notebooks'"
      ],
      "text/markdown": [
       "'C:/Git/angelobattaglia/r_notebooks'"
      ],
      "text/plain": [
       "[1] \"C:/Git/angelobattaglia/r_notebooks\""
      ]
     },
     "metadata": {},
     "output_type": "display_data"
    }
   ],
   "source": [
    "# How many objects are in memory?\n",
    "ls()\n",
    "# What's the working directory? \n",
    "getwd()"
   ]
  },
  {
   "cell_type": "code",
   "execution_count": 3,
   "id": "48ddfd14-8131-4822-9a24-fac400216457",
   "metadata": {},
   "outputs": [
    {
     "data": {
      "text/html": [
       "'C:/Git'"
      ],
      "text/latex": [
       "'C:/Git'"
      ],
      "text/markdown": [
       "'C:/Git'"
      ],
      "text/plain": [
       "[1] \"C:/Git\""
      ]
     },
     "metadata": {},
     "output_type": "display_data"
    }
   ],
   "source": [
    "# Let's change the working directory\n",
    "# setwd(\"C:/Git/\")\n",
    "# .. and verify if it changed\n",
    "# getwd()"
   ]
  },
  {
   "cell_type": "code",
   "execution_count": 4,
   "id": "c3861e31-2603-452b-9c9e-d4769a82b749",
   "metadata": {},
   "outputs": [],
   "source": [
    "# Saving the entire workspace\n",
    "save.image(\"saved_workspace.RData\")"
   ]
  },
  {
   "cell_type": "code",
   "execution_count": 1,
   "id": "59303116-2292-4825-b4b3-90bc611366dc",
   "metadata": {},
   "outputs": [
    {
     "data": {
      "text/html": [
       "<style>\n",
       ".list-inline {list-style: none; margin:0; padding: 0}\n",
       ".list-inline>li {display: inline-block}\n",
       ".list-inline>li:not(:last-child)::after {content: \"\\00b7\"; padding: 0 .5ex}\n",
       "</style>\n",
       "<ol class=list-inline><li>'.'</li><li>'..'</li><li>'.git'</li><li>'.gitignore'</li><li>'.ipynb_checkpoints'</li><li>'R_01.ipynb'</li><li>'R_02.ipynb'</li><li>'README.md'</li><li>'Sample_Statistics.ipynb'</li></ol>\n"
      ],
      "text/latex": [
       "\\begin{enumerate*}\n",
       "\\item '.'\n",
       "\\item '..'\n",
       "\\item '.git'\n",
       "\\item '.gitignore'\n",
       "\\item '.ipynb\\_checkpoints'\n",
       "\\item 'R\\_01.ipynb'\n",
       "\\item 'R\\_02.ipynb'\n",
       "\\item 'README.md'\n",
       "\\item 'Sample\\_Statistics.ipynb'\n",
       "\\end{enumerate*}\n"
      ],
      "text/markdown": [
       "1. '.'\n",
       "2. '..'\n",
       "3. '.git'\n",
       "4. '.gitignore'\n",
       "5. '.ipynb_checkpoints'\n",
       "6. 'R_01.ipynb'\n",
       "7. 'R_02.ipynb'\n",
       "8. 'README.md'\n",
       "9. 'Sample_Statistics.ipynb'\n",
       "\n",
       "\n"
      ],
      "text/plain": [
       "[1] \".\"                       \"..\"                     \n",
       "[3] \".git\"                    \".gitignore\"             \n",
       "[5] \".ipynb_checkpoints\"      \"R_01.ipynb\"             \n",
       "[7] \"R_02.ipynb\"              \"README.md\"              \n",
       "[9] \"Sample_Statistics.ipynb\""
      ]
     },
     "metadata": {},
     "output_type": "display_data"
    },
    {
     "data": {
      "text/html": [
       "<style>\n",
       ".list-inline {list-style: none; margin:0; padding: 0}\n",
       ".list-inline>li {display: inline-block}\n",
       ".list-inline>li:not(:last-child)::after {content: \"\\00b7\"; padding: 0 .5ex}\n",
       "</style>\n",
       "<ol class=list-inline><li>'R_01.ipynb'</li><li>'R_02.ipynb'</li><li>'README.md'</li><li>'Sample_Statistics.ipynb'</li></ol>\n"
      ],
      "text/latex": [
       "\\begin{enumerate*}\n",
       "\\item 'R\\_01.ipynb'\n",
       "\\item 'R\\_02.ipynb'\n",
       "\\item 'README.md'\n",
       "\\item 'Sample\\_Statistics.ipynb'\n",
       "\\end{enumerate*}\n"
      ],
      "text/markdown": [
       "1. 'R_01.ipynb'\n",
       "2. 'R_02.ipynb'\n",
       "3. 'README.md'\n",
       "4. 'Sample_Statistics.ipynb'\n",
       "\n",
       "\n"
      ],
      "text/plain": [
       "[1] \"R_01.ipynb\"              \"R_02.ipynb\"             \n",
       "[3] \"README.md\"               \"Sample_Statistics.ipynb\""
      ]
     },
     "metadata": {},
     "output_type": "display_data"
    }
   ],
   "source": [
    "# Let's see which files were saved in our working directory\n",
    "dir(all.files=TRUE)\n",
    "# or\n",
    "list.files()"
   ]
  },
  {
   "cell_type": "code",
   "execution_count": 2,
   "id": "25cd6bc7-65f7-4c48-abbb-251b983d9814",
   "metadata": {},
   "outputs": [],
   "source": [
    "###### File .RData : contiene il risultato di ciò che abbiamo eseguito (a)\n",
    "###### File .Rhistory: i comandi eseguiti (script)"
   ]
  },
  {
   "cell_type": "code",
   "execution_count": 6,
   "id": "5cdb3a3e-662b-475a-8fc1-0ae68fa7c3b4",
   "metadata": {},
   "outputs": [],
   "source": [
    "## Browsing for help\n",
    "# help.start()"
   ]
  },
  {
   "cell_type": "code",
   "execution_count": 8,
   "id": "e08de402-c7ee-45ce-92f6-5ee7d2b100a9",
   "metadata": {},
   "outputs": [],
   "source": [
    "## We can call the help() function on a command\n",
    "# help(quit)\n",
    "## or\n",
    "# ?quit"
   ]
  },
  {
   "cell_type": "code",
   "execution_count": 10,
   "id": "a04478dd-35b6-4763-b2d6-94d54dbffab1",
   "metadata": {},
   "outputs": [
    {
     "data": {
      "text/html": [
       "\n",
       "<table style=\"width: 100%;\"><tr><td>Arithmetic {base}</td><td style=\"text-align: right;\">R Documentation</td></tr></table>\n",
       "\n",
       "<h2 id='Arithmetic'>Arithmetic Operators</h2>\n",
       "\n",
       "<h3>Description</h3>\n",
       "\n",
       "<p>These unary and binary operators perform arithmetic on numeric or\n",
       "complex vectors (or objects which can be coerced to them).\n",
       "</p>\n",
       "\n",
       "\n",
       "<h3>Usage</h3>\n",
       "\n",
       "<pre><code class='language-R'>+ x\n",
       "- x\n",
       "x + y\n",
       "x - y\n",
       "x * y\n",
       "x / y\n",
       "x ^ y\n",
       "x %% y\n",
       "x %/% y\n",
       "</code></pre>\n",
       "\n",
       "\n",
       "<h3>Arguments</h3>\n",
       "\n",
       "<table>\n",
       "<tr><td><code id=\"Arithmetic_:_x\">x</code>, <code id=\"Arithmetic_:_y\">y</code></td>\n",
       "<td>\n",
       "<p>numeric or complex vectors or objects which can be\n",
       "coerced to such, or other objects for which methods have been written.</p>\n",
       "</td></tr>\n",
       "</table>\n",
       "\n",
       "\n",
       "<h3>Details</h3>\n",
       "\n",
       "<p>The unary and binary arithmetic operators are generic functions:\n",
       "methods can be written for them individually or via the\n",
       "<code>Ops</code> group generic function.  (See\n",
       "<code>Ops</code> for how dispatch is computed.)\n",
       "</p>\n",
       "<p>If applied to arrays the result will be an array if this is sensible\n",
       "(for example it will not if the recycling rule has been invoked).\n",
       "</p>\n",
       "<p>Logical vectors will be coerced to integer or numeric vectors,\n",
       "<code>FALSE</code> having value zero and <code>TRUE</code> having value one.\n",
       "</p>\n",
       "<p><code>1 ^ y</code> and <code>y ^ 0</code> are <code>1</code>, <em>always</em>.\n",
       "<code>x ^ y</code> should also give the proper limit result when\n",
       "either (numeric) argument is infinite (one of <code>Inf</code> or\n",
       "<code>-Inf</code>).\n",
       "</p>\n",
       "<p>Objects such as arrays or time-series can be operated on this\n",
       "way provided they are conformable.\n",
       "</p>\n",
       "<p>For double arguments, <code>%%</code> can be subject to catastrophic loss of\n",
       "accuracy if <code>x</code> is much larger than <code>y</code>, and a warning is\n",
       "given if this is detected.\n",
       "</p>\n",
       "<p><code>%%</code> and <code>x %/% y</code> can be used for non-integer <code>y</code>,\n",
       "e.g. <code>1 %/% 0.2</code>, but the results are subject to representation\n",
       "error and so may be platform-dependent.  Because the IEC 60559\n",
       "representation of <code>0.2</code> is a binary fraction slightly larger than\n",
       "<code>0.2</code>, the answer to <code>1 %/% 0.2</code> should be <code>4</code> but\n",
       "most platforms give <code>5</code>.\n",
       "</p>\n",
       "<p>Users are sometimes surprised by the value returned, for example why\n",
       "<code>(-8)^(1/3)</code> is <code>NaN</code>.  For double inputs, <span class=\"rlang\"><b>R</b></span> makes\n",
       "use of IEC 60559 arithmetic on all platforms, together with the C\n",
       "system function &lsquo;<span class=\"samp\">&#8288;pow&#8288;</span>&rsquo; for the <code>^</code> operator.  The relevant\n",
       "standards define the result in many corner cases.  In particular, the\n",
       "result in the example above is mandated by the C99 standard.  On many\n",
       "Unix-alike systems the command <code>man pow</code> gives details of the\n",
       "values in a large number of corner cases.\n",
       "</p>\n",
       "<p>Arithmetic on type double in <span class=\"rlang\"><b>R</b></span> is supposed to be done in\n",
       "&lsquo;round to nearest, ties to even&rsquo; mode, but this does depend on\n",
       "the compiler and FPU being set up correctly.\n",
       "</p>\n",
       "\n",
       "\n",
       "<h3>Value</h3>\n",
       "\n",
       "<p>Unary <code>+</code> and unary <code>-</code> return a numeric or complex vector.\n",
       "All attributes (including class) are preserved if there is no\n",
       "coercion: logical <code>x</code> is coerced to integer and names, dims and\n",
       "dimnames are preserved.\n",
       "</p>\n",
       "<p>The binary operators return vectors containing the result of the element\n",
       "by element operations.  If involving a zero-length vector the result\n",
       "has length zero.  Otherwise, the elements of shorter vectors are recycled\n",
       "as necessary (with a <code>warning</code> when they are recycled only\n",
       "<em>fractionally</em>).  The operators are <code>+</code> for addition,\n",
       "<code>-</code> for subtraction, <code>*</code> for multiplication, <code>/</code> for\n",
       "division and <code>^</code> for exponentiation.\n",
       "</p>\n",
       "<p><code>%%</code> indicates <code>x mod y</code> (&ldquo;x modulo y&rdquo;), i.e.,\n",
       "computes the &lsquo;remainder&rsquo; <code>r &lt;- x %% y</code>, and\n",
       "<code>%/%</code> indicates integer division, where <span class=\"rlang\"><b>R</b></span> uses &ldquo;floored&rdquo;\n",
       "integer division, i.e., <code>q &lt;- x %/% y := floor(x/y)</code>, as promoted\n",
       "by Donald Knuth, see the Wikipedia page on &lsquo;Modulo operation&rsquo;,\n",
       "and hence <code>sign(r) == sign(y)</code>.  It is guaranteed that\n",
       "</p>\n",
       "\n",
       "<dl>\n",
       "<dt><code> x == (x %% y) + y * (x %/% y) </code></dt><dd> <p> (up to rounding error)</p>\n",
       "</dd>\n",
       "</dl>\n",
       "\n",
       "<p>unless <code>y == 0</code> where the result of <code>%%</code> is\n",
       "<code>NA_integer_</code> or <code>NaN</code> (depending on the\n",
       "<code>typeof</code> of the arguments) or for some non-finite\n",
       "arguments, e.g., when the RHS of the identity above\n",
       "amounts to <code>Inf - Inf</code>.\n",
       "</p>\n",
       "<p>If either argument is complex the result will be complex, otherwise if\n",
       "one or both arguments are numeric, the result will be numeric.  If\n",
       "both arguments are of type integer, the type of the result of\n",
       "<code>/</code> and <code>^</code> is numeric and for the other operators it\n",
       "is integer (with overflow, which occurs at\n",
       "<code class=\"reqn\">\\pm(2^{31} - 1)</code>,\n",
       "returned as <code>NA_integer_</code> with a warning).\n",
       "</p>\n",
       "<p>The rules for determining the attributes of the result are rather\n",
       "complicated.  Most attributes are taken from the longer argument.\n",
       "Names will be copied from the first if it is the same length as the\n",
       "answer, otherwise from the second if that is.  If the arguments are\n",
       "the same length, attributes will be copied from both, with those of\n",
       "the first argument taking precedence when the same attribute is\n",
       "present in both arguments. For time series, these operations are\n",
       "allowed only if the series are compatible, when the class and\n",
       "<code>tsp</code> attribute of whichever is a time series (the same,\n",
       "if both are) are used.  For arrays (and an array result) the\n",
       "dimensions and dimnames are taken from first argument if it is an\n",
       "array, otherwise the second.\n",
       "</p>\n",
       "\n",
       "\n",
       "<h3>S4 methods</h3>\n",
       "\n",
       "<p>These operators are members of the S4 <code>Arith</code> group generic,\n",
       "and so methods can be written for them individually as well as for the\n",
       "group generic (or the <code>Ops</code> group generic), with arguments\n",
       "<code>c(e1, e2)</code> (with <code>e2</code> missing for a unary operator).\n",
       "</p>\n",
       "\n",
       "\n",
       "<h3>Implementation limits</h3>\n",
       "\n",
       "<p><span class=\"rlang\"><b>R</b></span> is dependent on OS services (and they on FPUs) for floating-point\n",
       "arithmetic.  On all current <span class=\"rlang\"><b>R</b></span> platforms IEC 60559 (also known as IEEE\n",
       "754) arithmetic is used, but some things in those standards are\n",
       "optional.  In particular, the support for <em>denormal</em> aka\n",
       "<em>subnormal</em> numbers\n",
       "(those outside the range given by <code>.Machine</code>) may differ\n",
       "between platforms and even between calculations on a single platform.\n",
       "</p>\n",
       "<p>Another potential issue is signed zeroes: on IEC 60559 platforms there\n",
       "are two zeroes with internal representations differing by sign.  Where\n",
       "possible <span class=\"rlang\"><b>R</b></span> treats them as the same, but for example direct output\n",
       "from C code often does not do so and may output &lsquo;<span class=\"samp\">&#8288;-0.0&#8288;</span>&rsquo; (and on\n",
       "Windows whether it does so or not depends on the version of Windows).\n",
       "One place in <span class=\"rlang\"><b>R</b></span> where the difference might be seen is in division by\n",
       "zero: <code>1/x</code> is <code>Inf</code> or <code>-Inf</code> depending on the sign of\n",
       "zero <code>x</code>.  Another place is\n",
       "<code>identical(0, -0, num.eq = FALSE)</code>.\n",
       "</p>\n",
       "\n",
       "\n",
       "<h3>Note</h3>\n",
       "\n",
       "<p>All logical operations involving a zero-length vector have a\n",
       "zero-length result.\n",
       "</p>\n",
       "<p>The binary operators are sometimes called as functions as\n",
       "e.g. <code>`&amp;`(x, y)</code>: see the description of how\n",
       "argument-matching is done in <code>Ops</code>.\n",
       "</p>\n",
       "<p><code>**</code> is translated in the parser to <code>^</code>, but this was\n",
       "undocumented for many years.  It appears as an index entry in Becker\n",
       "<em>et al</em> (1988), pointing to the help for <code>Deprecated</code> but\n",
       "is not actually mentioned on that page.  Even though it had been\n",
       "deprecated in S for 20 years, it was still accepted in <span class=\"rlang\"><b>R</b></span> in 2008.\n",
       "</p>\n",
       "\n",
       "\n",
       "<h3>References</h3>\n",
       "\n",
       "<p>Becker, R. A., Chambers, J. M. and Wilks, A. R. (1988)\n",
       "<em>The New S Language</em>.\n",
       "Wadsworth &amp; Brooks/Cole.\n",
       "</p>\n",
       "<p>D. Goldberg (1991).\n",
       "What Every Computer Scientist Should Know about Floating-Point\n",
       "Arithmetic.\n",
       "<em>ACM Computing Surveys</em>, <b>23</b>(1), 5&ndash;48.\n",
       "<a href=\"https://doi.org/10.1145/103162.103163\">doi:10.1145/103162.103163</a>.\n",
       "<br />\n",
       "\n",
       "\n",
       "\n",
       "\n",
       "\n",
       "\n",
       "\n",
       "Also available at\n",
       "<a href=\"https://docs.oracle.com/cd/E19957-01/806-3568/ncg_goldberg.html\">https://docs.oracle.com/cd/E19957-01/806-3568/ncg_goldberg.html</a>.\n",
       "</p>\n",
       "<p>For the IEC 60559 (aka IEEE 754) standard:\n",
       "<a href=\"https://www.iso.org/standard/57469.html\">https://www.iso.org/standard/57469.html</a> and\n",
       "<a href=\"https://en.wikipedia.org/wiki/IEEE_754\">https://en.wikipedia.org/wiki/IEEE_754</a>.\n",
       "</p>\n",
       "<p>On the integer division and remainder (modulo) computations, <code>%%</code>\n",
       "and <code>%/%</code>:  <a href=\"https://en.wikipedia.org/wiki/Modulo_operation\">https://en.wikipedia.org/wiki/Modulo_operation</a>, and\n",
       "Donald Knuth (1972)\n",
       "<em>The Art of Computer Programming</em>, Vol.1.\n",
       "</p>\n",
       "\n",
       "\n",
       "<h3>See Also</h3>\n",
       "\n",
       "<p><code>sqrt</code> for miscellaneous and <code>Special</code> for special\n",
       "mathematical functions.\n",
       "</p>\n",
       "<p><code>Syntax</code> for operator precedence.\n",
       "</p>\n",
       "<p><code>%*%</code> for matrix multiplication.\n",
       "</p>\n",
       "\n",
       "\n",
       "<h3>Examples</h3>\n",
       "\n",
       "<pre><code class='language-R'>x &lt;- -1:12\n",
       "x + 1\n",
       "2 * x + 3\n",
       "x %%  3 # is periodic  2 0  1  2 0  1 ...\n",
       "x %% -3 #  (ditto)    -1 0 -2 -1 0 -2 ...\n",
       "x %/% 5\n",
       "x %% Inf # now is defined by limit (gave NaN in earlier versions of R)\n",
       "</code></pre>\n",
       "\n",
       "<hr /><div style=\"text-align: center;\">[Package <em>base</em> version 4.3.2 ]</div>\n",
       "</div>"
      ],
      "text/latex": [
       "\\inputencoding{utf8}\n",
       "\\HeaderA{Arithmetic}{Arithmetic Operators}{Arithmetic}\n",
       "\\aliasA{-}{Arithmetic}{.Rdash.}\n",
       "\\aliasA{\\%\\%}{Arithmetic}{.Rpcent..Rpcent.}\n",
       "\\aliasA{\\%/\\%}{Arithmetic}{.Rpcent./.Rpcent.}\n",
       "\\aliasA{*}{Arithmetic}{*}\n",
       "\\aliasA{**}{Arithmetic}{**}\n",
       "\\aliasA{/}{Arithmetic}{/}\n",
       "\\aliasA{\\textasciicircum{}}{Arithmetic}{.Rcaret.}\n",
       "\\aliasA{+}{Arithmetic}{+}\n",
       "\\keyword{remainder}{Arithmetic}\n",
       "\\keyword{modulo}{Arithmetic}\n",
       "\\keyword{modulus}{Arithmetic}\n",
       "\\keyword{quotient}{Arithmetic}\n",
       "\\keyword{division}{Arithmetic}\n",
       "\\keyword{arith}{Arithmetic}\n",
       "%\n",
       "\\begin{Description}\n",
       "These unary and binary operators perform arithmetic on numeric or\n",
       "complex vectors (or objects which can be coerced to them).\n",
       "\\end{Description}\n",
       "%\n",
       "\\begin{Usage}\n",
       "\\begin{verbatim}\n",
       "+ x\n",
       "- x\n",
       "x + y\n",
       "x - y\n",
       "x * y\n",
       "x / y\n",
       "x ^ y\n",
       "x %% y\n",
       "x %/% y\n",
       "\\end{verbatim}\n",
       "\\end{Usage}\n",
       "%\n",
       "\\begin{Arguments}\n",
       "\\begin{ldescription}\n",
       "\\item[\\code{x, y}] numeric or complex vectors or objects which can be\n",
       "coerced to such, or other objects for which methods have been written.\n",
       "\\end{ldescription}\n",
       "\\end{Arguments}\n",
       "%\n",
       "\\begin{Details}\n",
       "The unary and binary arithmetic operators are generic functions:\n",
       "methods can be written for them individually or via the\n",
       "\\code{\\LinkA{Ops}{S3groupGeneric}} group generic function.  (See\n",
       "\\code{\\LinkA{Ops}{S3groupGeneric}} for how dispatch is computed.)\n",
       "\n",
       "If applied to arrays the result will be an array if this is sensible\n",
       "(for example it will not if the recycling rule has been invoked).\n",
       "\n",
       "Logical vectors will be coerced to integer or numeric vectors,\n",
       "\\code{FALSE} having value zero and \\code{TRUE} having value one.\n",
       "\n",
       "\\code{1 \\textasciicircum{} y} and \\code{y \\textasciicircum{} 0} are \\code{1}, \\emph{always}.\n",
       "\\code{x \\textasciicircum{} y} should also give the proper limit result when\n",
       "either (numeric) argument is \\LinkA{infinite}{infinite} (one of \\code{Inf} or\n",
       "\\code{-Inf}).\n",
       "\n",
       "Objects such as arrays or time-series can be operated on this\n",
       "way provided they are conformable.\n",
       "\n",
       "For double arguments, \\code{\\%\\%} can be subject to catastrophic loss of\n",
       "accuracy if \\code{x} is much larger than \\code{y}, and a warning is\n",
       "given if this is detected.\n",
       "\n",
       "\\code{\\%\\%} and \\code{x \\%/\\% y} can be used for non-integer \\code{y},\n",
       "e.g.~\\code{1 \\%/\\% 0.2}, but the results are subject to representation\n",
       "error and so may be platform-dependent.  Because the IEC 60559\n",
       "representation of \\code{0.2} is a binary fraction slightly larger than\n",
       "\\code{0.2}, the answer to \\code{1 \\%/\\% 0.2} should be \\code{4} but\n",
       "most platforms give \\code{5}.\n",
       "\n",
       "Users are sometimes surprised by the value returned, for example why\n",
       "\\code{(-8)\\textasciicircum{}(1/3)} is \\code{NaN}.  For \\LinkA{double}{double} inputs, \\R{} makes\n",
       "use of IEC 60559 arithmetic on all platforms, together with the C\n",
       "system function \\samp{pow} for the \\code{\\textasciicircum{}} operator.  The relevant\n",
       "standards define the result in many corner cases.  In particular, the\n",
       "result in the example above is mandated by the C99 standard.  On many\n",
       "Unix-alike systems the command \\command{man pow} gives details of the\n",
       "values in a large number of corner cases.\n",
       "\n",
       "Arithmetic on type \\LinkA{double}{double} in \\R{} is supposed to be done in\n",
       "`round to nearest, ties to even' mode, but this does depend on\n",
       "the compiler and FPU being set up correctly.\n",
       "\\end{Details}\n",
       "%\n",
       "\\begin{Value}\n",
       "Unary \\code{+} and unary \\code{-} return a numeric or complex vector.\n",
       "All attributes (including class) are preserved if there is no\n",
       "coercion: logical \\code{x} is coerced to integer and names, dims and\n",
       "dimnames are preserved.\n",
       "\n",
       "The binary operators return vectors containing the result of the element\n",
       "by element operations.  If involving a zero-length vector the result\n",
       "has length zero.  Otherwise, the elements of shorter vectors are recycled\n",
       "as necessary (with a \\code{\\LinkA{warning}{warning}} when they are recycled only\n",
       "\\emph{fractionally}).  The operators are \\code{+} for addition,\n",
       "\\code{-} for subtraction, \\code{*} for multiplication, \\code{/} for\n",
       "division and \\code{\\textasciicircum{}} for exponentiation.\n",
       "\n",
       "\\code{\\%\\%} indicates \\code{x mod y} (``x modulo y''), i.e.,\n",
       "computes the `remainder' \\code{r <- x \\%\\% y}, and\n",
       "\\code{\\%/\\%} indicates integer division, where \\R{} uses ``floored''\n",
       "integer division, i.e., \\code{q <- x \\%/\\% y := floor(x/y)}, as promoted\n",
       "by Donald Knuth, see the Wikipedia page on `Modulo operation',\n",
       "and hence \\code{sign(r) == sign(y)}.  It is guaranteed that\n",
       "\\begin{description}\n",
       "\n",
       "\\item[\\code{ x == (x \\%\\% y) + y * (x \\%/\\% y) }] ~ (up to rounding error)\n",
       "\n",
       "\\end{description}\n",
       "\n",
       "unless \\code{y == 0} where the result of \\code{\\%\\%} is\n",
       "\\code{\\LinkA{NA\\_integer\\_}{NA.Rul.integer.Rul.}} or \\code{\\LinkA{NaN}{NaN}} (depending on the\n",
       "\\code{\\LinkA{typeof}{typeof}} of the arguments) or for some non-\\LinkA{finite}{finite}\n",
       "arguments, e.g., when the RHS of the identity above\n",
       "amounts to \\code{Inf - Inf}.\n",
       "\n",
       "If either argument is complex the result will be complex, otherwise if\n",
       "one or both arguments are numeric, the result will be numeric.  If\n",
       "both arguments are of type \\LinkA{integer}{integer}, the type of the result of\n",
       "\\code{/} and \\code{\\textasciicircum{}} is \\LinkA{numeric}{numeric} and for the other operators it\n",
       "is integer (with overflow, which occurs at\n",
       "\\eqn{\\pm(2^{31} - 1)}{},\n",
       "returned as \\code{NA\\_integer\\_} with a warning).\n",
       "\n",
       "The rules for determining the attributes of the result are rather\n",
       "complicated.  Most attributes are taken from the longer argument.\n",
       "Names will be copied from the first if it is the same length as the\n",
       "answer, otherwise from the second if that is.  If the arguments are\n",
       "the same length, attributes will be copied from both, with those of\n",
       "the first argument taking precedence when the same attribute is\n",
       "present in both arguments. For time series, these operations are\n",
       "allowed only if the series are compatible, when the class and\n",
       "\\code{\\LinkA{tsp}{tsp}} attribute of whichever is a time series (the same,\n",
       "if both are) are used.  For arrays (and an array result) the\n",
       "dimensions and dimnames are taken from first argument if it is an\n",
       "array, otherwise the second.\n",
       "\n",
       "\\end{Value}\n",
       "%\n",
       "\\begin{Section}{S4 methods}\n",
       "These operators are members of the S4 \\code{\\LinkA{Arith}{Arith}} group generic,\n",
       "and so methods can be written for them individually as well as for the\n",
       "group generic (or the \\code{Ops} group generic), with arguments\n",
       "\\code{c(e1, e2)} (with \\code{e2} missing for a unary operator).\n",
       "\\end{Section}\n",
       "%\n",
       "\\begin{Section}{Implementation limits}\n",
       "\\R{} is dependent on OS services (and they on FPUs) for floating-point\n",
       "arithmetic.  On all current \\R{} platforms IEC 60559 (also known as IEEE\n",
       "754) arithmetic is used, but some things in those standards are\n",
       "optional.  In particular, the support for \\emph{denormal} aka\n",
       "\\emph{subnormal} numbers\n",
       "(those outside the range given by \\code{\\LinkA{.Machine}{.Machine}}) may differ\n",
       "between platforms and even between calculations on a single platform.\n",
       "\n",
       "Another potential issue is signed zeroes: on IEC 60559 platforms there\n",
       "are two zeroes with internal representations differing by sign.  Where\n",
       "possible \\R{} treats them as the same, but for example direct output\n",
       "from C code often does not do so and may output \\samp{-0.0} (and on\n",
       "Windows whether it does so or not depends on the version of Windows).\n",
       "One place in \\R{} where the difference might be seen is in division by\n",
       "zero: \\code{1/x} is \\code{Inf} or \\code{-Inf} depending on the sign of\n",
       "zero \\code{x}.  Another place is\n",
       "\\code{\\LinkA{identical}{identical}(0, -0, num.eq = FALSE)}.\n",
       "\\end{Section}\n",
       "%\n",
       "\\begin{Note}\n",
       "All logical operations involving a zero-length vector have a\n",
       "zero-length result.\n",
       "\n",
       "The binary operators are sometimes called as functions as\n",
       "e.g.~\\code{`\\&`(x, y)}: see the description of how\n",
       "argument-matching is done in \\code{\\LinkA{Ops}{Ops}}.\n",
       "\n",
       "\\code{**} is translated in the parser to \\code{\\textasciicircum{}}, but this was\n",
       "undocumented for many years.  It appears as an index entry in Becker\n",
       "\\emph{et al} (1988), pointing to the help for \\code{Deprecated} but\n",
       "is not actually mentioned on that page.  Even though it had been\n",
       "deprecated in S for 20 years, it was still accepted in \\R{} in 2008.\n",
       "\\end{Note}\n",
       "%\n",
       "\\begin{References}\n",
       "Becker, R. A., Chambers, J. M. and Wilks, A. R. (1988)\n",
       "\\emph{The New S Language}.\n",
       "Wadsworth \\& Brooks/Cole.\n",
       "\n",
       "D. Goldberg (1991).\n",
       "What Every Computer Scientist Should Know about Floating-Point\n",
       "Arithmetic.\n",
       "\\emph{ACM Computing Surveys}, \\bold{23}(1), 5--48.\n",
       "\\Rhref{https://doi.org/10.1145/103162.103163}{doi:10.1145\\slash{}103162.103163}.\n",
       "\\\\{}\n",
       "\n",
       "\n",
       "\n",
       "\n",
       "\n",
       "\n",
       "\n",
       "Also available at\n",
       "\\url{https://docs.oracle.com/cd/E19957-01/806-3568/ncg_goldberg.html}.\n",
       "\n",
       "For the IEC 60559 (aka IEEE 754) standard:\n",
       "\\url{https://www.iso.org/standard/57469.html} and\n",
       "\\url{https://en.wikipedia.org/wiki/IEEE_754}.\n",
       "\n",
       "On the integer division and remainder (modulo) computations, \\code{\\%\\%}\n",
       "and \\code{\\%/\\%}:  \\url{https://en.wikipedia.org/wiki/Modulo_operation}, and\n",
       "Donald Knuth (1972)\n",
       "\\emph{The Art of Computer Programming}, Vol.1.\n",
       "\\end{References}\n",
       "%\n",
       "\\begin{SeeAlso}\n",
       "\\code{\\LinkA{sqrt}{sqrt}} for miscellaneous and \\code{\\LinkA{Special}{Special}} for special\n",
       "mathematical functions.\n",
       "\n",
       "\\code{\\LinkA{Syntax}{Syntax}} for operator precedence.\n",
       "\n",
       "\\code{\\LinkA{\\Rpercent{}*\\Rpercent{}}{.Rpcent.*.Rpcent.}} for matrix multiplication.\n",
       "\\end{SeeAlso}\n",
       "%\n",
       "\\begin{Examples}\n",
       "\\begin{ExampleCode}\n",
       "x <- -1:12\n",
       "x + 1\n",
       "2 * x + 3\n",
       "x %%  3 # is periodic  2 0  1  2 0  1 ...\n",
       "x %% -3 #  (ditto)    -1 0 -2 -1 0 -2 ...\n",
       "x %/% 5\n",
       "x %% Inf # now is defined by limit (gave NaN in earlier versions of R)\n",
       "\\end{ExampleCode}\n",
       "\\end{Examples}"
      ],
      "text/plain": [
       "Arithmetic                package:base                 R Documentation\n",
       "\n",
       "_\bA_\br_\bi_\bt_\bh_\bm_\be_\bt_\bi_\bc _\bO_\bp_\be_\br_\ba_\bt_\bo_\br_\bs\n",
       "\n",
       "_\bD_\be_\bs_\bc_\br_\bi_\bp_\bt_\bi_\bo_\bn:\n",
       "\n",
       "     These unary and binary operators perform arithmetic on numeric or\n",
       "     complex vectors (or objects which can be coerced to them).\n",
       "\n",
       "_\bU_\bs_\ba_\bg_\be:\n",
       "\n",
       "     + x\n",
       "     - x\n",
       "     x + y\n",
       "     x - y\n",
       "     x * y\n",
       "     x / y\n",
       "     x ^ y\n",
       "     x %% y\n",
       "     x %/% y\n",
       "     \n",
       "_\bA_\br_\bg_\bu_\bm_\be_\bn_\bt_\bs:\n",
       "\n",
       "    x, y: numeric or complex vectors or objects which can be coerced to\n",
       "          such, or other objects for which methods have been written.\n",
       "\n",
       "_\bD_\be_\bt_\ba_\bi_\bl_\bs:\n",
       "\n",
       "     The unary and binary arithmetic operators are generic functions:\n",
       "     methods can be written for them individually or via the 'Ops'\n",
       "     group generic function.  (See 'Ops' for how dispatch is computed.)\n",
       "\n",
       "     If applied to arrays the result will be an array if this is\n",
       "     sensible (for example it will not if the recycling rule has been\n",
       "     invoked).\n",
       "\n",
       "     Logical vectors will be coerced to integer or numeric vectors,\n",
       "     'FALSE' having value zero and 'TRUE' having value one.\n",
       "\n",
       "     '1 ^ y' and 'y ^ 0' are '1', _always_.  'x ^ y' should also give\n",
       "     the proper limit result when either (numeric) argument is infinite\n",
       "     (one of 'Inf' or '-Inf').\n",
       "\n",
       "     Objects such as arrays or time-series can be operated on this way\n",
       "     provided they are conformable.\n",
       "\n",
       "     For double arguments, '%%' can be subject to catastrophic loss of\n",
       "     accuracy if 'x' is much larger than 'y', and a warning is given if\n",
       "     this is detected.\n",
       "\n",
       "     '%%' and 'x %/% y' can be used for non-integer 'y', e.g. '1 %/%\n",
       "     0.2', but the results are subject to representation error and so\n",
       "     may be platform-dependent.  Because the IEC 60559 representation\n",
       "     of '0.2' is a binary fraction slightly larger than '0.2', the\n",
       "     answer to '1 %/% 0.2' should be '4' but most platforms give '5'.\n",
       "\n",
       "     Users are sometimes surprised by the value returned, for example\n",
       "     why '(-8)^(1/3)' is 'NaN'.  For double inputs, R makes use of IEC\n",
       "     60559 arithmetic on all platforms, together with the C system\n",
       "     function 'pow' for the '^' operator.  The relevant standards\n",
       "     define the result in many corner cases.  In particular, the result\n",
       "     in the example above is mandated by the C99 standard.  On many\n",
       "     Unix-alike systems the command 'man pow' gives details of the\n",
       "     values in a large number of corner cases.\n",
       "\n",
       "     Arithmetic on type double in R is supposed to be done in 'round to\n",
       "     nearest, ties to even' mode, but this does depend on the compiler\n",
       "     and FPU being set up correctly.\n",
       "\n",
       "_\bV_\ba_\bl_\bu_\be:\n",
       "\n",
       "     Unary '+' and unary '-' return a numeric or complex vector.  All\n",
       "     attributes (including class) are preserved if there is no\n",
       "     coercion: logical 'x' is coerced to integer and names, dims and\n",
       "     dimnames are preserved.\n",
       "\n",
       "     The binary operators return vectors containing the result of the\n",
       "     element by element operations.  If involving a zero-length vector\n",
       "     the result has length zero.  Otherwise, the elements of shorter\n",
       "     vectors are recycled as necessary (with a 'warning' when they are\n",
       "     recycled only _fractionally_).  The operators are '+' for\n",
       "     addition, '-' for subtraction, '*' for multiplication, '/' for\n",
       "     division and '^' for exponentiation.\n",
       "\n",
       "     '%%' indicates 'x mod y' (\"x modulo y\"), i.e., computes the\n",
       "     'remainder' 'r <- x %% y', and '%/%' indicates integer division,\n",
       "     where R uses \"floored\" integer division, i.e., 'q <- x %/% y :=\n",
       "     floor(x/y)', as promoted by Donald Knuth, see the Wikipedia page\n",
       "     on 'Modulo operation', and hence 'sign(r) == sign(y)'.  It is\n",
       "     guaranteed that\n",
       "\n",
       "     ' x == (x %% y) + y * (x %/% y) ' (up to rounding error)\n",
       "\n",
       "     unless 'y == 0' where the result of '%%' is 'NA_integer_' or 'NaN'\n",
       "     (depending on the 'typeof' of the arguments) or for some\n",
       "     non-finite arguments, e.g., when the RHS of the identity above\n",
       "     amounts to 'Inf - Inf'.\n",
       "\n",
       "     If either argument is complex the result will be complex,\n",
       "     otherwise if one or both arguments are numeric, the result will be\n",
       "     numeric.  If both arguments are of type integer, the type of the\n",
       "     result of '/' and '^' is numeric and for the other operators it is\n",
       "     integer (with overflow, which occurs at +/- (2^31 - 1), returned\n",
       "     as 'NA_integer_' with a warning).\n",
       "\n",
       "     The rules for determining the attributes of the result are rather\n",
       "     complicated.  Most attributes are taken from the longer argument.\n",
       "     Names will be copied from the first if it is the same length as\n",
       "     the answer, otherwise from the second if that is.  If the\n",
       "     arguments are the same length, attributes will be copied from\n",
       "     both, with those of the first argument taking precedence when the\n",
       "     same attribute is present in both arguments. For time series,\n",
       "     these operations are allowed only if the series are compatible,\n",
       "     when the class and 'tsp' attribute of whichever is a time series\n",
       "     (the same, if both are) are used.  For arrays (and an array\n",
       "     result) the dimensions and dimnames are taken from first argument\n",
       "     if it is an array, otherwise the second.\n",
       "\n",
       "_\bS_\b4 _\bm_\be_\bt_\bh_\bo_\bd_\bs:\n",
       "\n",
       "     These operators are members of the S4 'Arith' group generic, and\n",
       "     so methods can be written for them individually as well as for the\n",
       "     group generic (or the 'Ops' group generic), with arguments 'c(e1,\n",
       "     e2)' (with 'e2' missing for a unary operator).\n",
       "\n",
       "_\bI_\bm_\bp_\bl_\be_\bm_\be_\bn_\bt_\ba_\bt_\bi_\bo_\bn _\bl_\bi_\bm_\bi_\bt_\bs:\n",
       "\n",
       "     R is dependent on OS services (and they on FPUs) for\n",
       "     floating-point arithmetic.  On all current R platforms IEC 60559\n",
       "     (also known as IEEE 754) arithmetic is used, but some things in\n",
       "     those standards are optional.  In particular, the support for\n",
       "     _denormal_ aka _subnormal_ numbers (those outside the range given\n",
       "     by '.Machine') may differ between platforms and even between\n",
       "     calculations on a single platform.\n",
       "\n",
       "     Another potential issue is signed zeroes: on IEC 60559 platforms\n",
       "     there are two zeroes with internal representations differing by\n",
       "     sign.  Where possible R treats them as the same, but for example\n",
       "     direct output from C code often does not do so and may output\n",
       "     '-0.0' (and on Windows whether it does so or not depends on the\n",
       "     version of Windows).  One place in R where the difference might be\n",
       "     seen is in division by zero: '1/x' is 'Inf' or '-Inf' depending on\n",
       "     the sign of zero 'x'.  Another place is 'identical(0, -0, num.eq =\n",
       "     FALSE)'.\n",
       "\n",
       "_\bN_\bo_\bt_\be:\n",
       "\n",
       "     All logical operations involving a zero-length vector have a\n",
       "     zero-length result.\n",
       "\n",
       "     The binary operators are sometimes called as functions as e.g.\n",
       "     '`&`(x, y)': see the description of how argument-matching is done\n",
       "     in 'Ops'.\n",
       "\n",
       "     '**' is translated in the parser to '^', but this was undocumented\n",
       "     for many years.  It appears as an index entry in Becker _et al_\n",
       "     (1988), pointing to the help for 'Deprecated' but is not actually\n",
       "     mentioned on that page.  Even though it had been deprecated in S\n",
       "     for 20 years, it was still accepted in R in 2008.\n",
       "\n",
       "_\bR_\be_\bf_\be_\br_\be_\bn_\bc_\be_\bs:\n",
       "\n",
       "     Becker, R. A., Chambers, J. M. and Wilks, A. R. (1988) _The New S\n",
       "     Language_.  Wadsworth & Brooks/Cole.\n",
       "\n",
       "     D. Goldberg (1991).  What Every Computer Scientist Should Know\n",
       "     about Floating-Point Arithmetic.  _ACM Computing Surveys_,\n",
       "     *23*(1), 5-48.  doi:10.1145/103162.103163\n",
       "     <https://doi.org/10.1145/103162.103163>.\n",
       "\n",
       "     Also available at\n",
       "     <https://docs.oracle.com/cd/E19957-01/806-3568/ncg_goldberg.html>.\n",
       "\n",
       "     For the IEC 60559 (aka IEEE 754) standard:\n",
       "     <https://www.iso.org/standard/57469.html> and\n",
       "     <https://en.wikipedia.org/wiki/IEEE_754>.\n",
       "\n",
       "     On the integer division and remainder (modulo) computations, '%%'\n",
       "     and '%/%': <https://en.wikipedia.org/wiki/Modulo_operation>, and\n",
       "     Donald Knuth (1972) _The Art of Computer Programming_, Vol.1.\n",
       "\n",
       "_\bS_\be_\be _\bA_\bl_\bs_\bo:\n",
       "\n",
       "     'sqrt' for miscellaneous and 'Special' for special mathematical\n",
       "     functions.\n",
       "\n",
       "     'Syntax' for operator precedence.\n",
       "\n",
       "     '%*%' for matrix multiplication.\n",
       "\n",
       "_\bE_\bx_\ba_\bm_\bp_\bl_\be_\bs:\n",
       "\n",
       "     x <- -1:12\n",
       "     x + 1\n",
       "     2 * x + 3\n",
       "     x %%  3 # is periodic  2 0  1  2 0  1 ...\n",
       "     x %% -3 #  (ditto)    -1 0 -2 -1 0 -2 ...\n",
       "     x %/% 5\n",
       "     x %% Inf # now is defined by limit (gave NaN in earlier versions of R)\n",
       "     "
      ]
     },
     "metadata": {},
     "output_type": "display_data"
    }
   ],
   "source": [
    "# Let's see which Arithmetic function and its syntax\n",
    "?Arithmetic\n",
    "help(Arithmetic)\n",
    "help(Sqrt)\n",
    "help(Logarithmic)\n",
    "help(Trig)\n",
    "help(Special)"
   ]
  },
  {
   "cell_type": "code",
   "execution_count": null,
   "id": "1e36908d-becc-4d9f-a1ab-0c6f0fc6e5c0",
   "metadata": {},
   "outputs": [],
   "source": [
    "# Integers, Real and Complex numbers\n",
    "\n",
    "a = 88\n",
    "b = 13.31\n",
    "c = 7.53+1.21i\n",
    "\n",
    "# Strings of characters\n",
    "d=\"Manderley\"\n",
    "e=\"Denton\"\n",
    "\n",
    "# Logical elements\n",
    "f = TRUE\n",
    "g = FALSE\n",
    "# or\n",
    "h = F\n",
    "i = T"
   ]
  },
  {
   "cell_type": "code",
   "execution_count": 11,
   "id": "4a2bf157-0c5d-48da-949b-971c88006e07",
   "metadata": {},
   "outputs": [
    {
     "name": "stdout",
     "output_type": "stream",
     "text": [
      " chr \"12\"\n",
      " num 12\n"
     ]
    }
   ],
   "source": [
    "# Converting a variable from a type\n",
    "a = \"12\" # a is string type\n",
    "str(a) # checking which type \"a\" is\n",
    "a_to_num = as.numeric(a) # making a new variable that is \"a\" but as a number\n",
    "str(a_to_num) # checking the new variable"
   ]
  },
  {
   "cell_type": "code",
   "execution_count": 12,
   "id": "86bfdd2b-f457-4196-9612-4b71ff58b3a9",
   "metadata": {},
   "outputs": [
    {
     "data": {
      "text/html": [
       "'numeric'"
      ],
      "text/latex": [
       "'numeric'"
      ],
      "text/markdown": [
       "'numeric'"
      ],
      "text/plain": [
       "[1] \"numeric\""
      ]
     },
     "metadata": {},
     "output_type": "display_data"
    }
   ],
   "source": [
    "# We can also check the type of a variable with the function \"mode\"\n",
    "variable = 4\n",
    "mode(variable)"
   ]
  },
  {
   "cell_type": "code",
   "execution_count": 13,
   "id": "f4a3c707-310d-4f19-8537-b89e9f484372",
   "metadata": {},
   "outputs": [
    {
     "name": "stdout",
     "output_type": "stream",
     "text": [
      " chr \"3.51+1.2i\"\n",
      " chr \"Ciao\"\n"
     ]
    },
    {
     "name": "stderr",
     "output_type": "stream",
     "text": [
      "Warning message:\n",
      "\"NA introdotti per coercizione\"\n"
     ]
    },
    {
     "data": {
      "text/html": [
       "&lt;NA&gt;"
      ],
      "text/latex": [
       "<NA>"
      ],
      "text/markdown": [
       "&lt;NA&gt;"
      ],
      "text/plain": [
       "[1] NA"
      ]
     },
     "metadata": {},
     "output_type": "display_data"
    }
   ],
   "source": [
    "c=3.51+1.2i\n",
    "m = as.character(c)\n",
    "str(m)\n",
    "\n",
    "# The following gives an error message: why?\n",
    "d=\"Ciao\"\n",
    "str(d)\n",
    "as.numeric(d)"
   ]
  },
  {
   "cell_type": "code",
   "execution_count": 14,
   "id": "8eaf3e1b-27a7-41a5-a4e2-7a319700b79a",
   "metadata": {},
   "outputs": [
    {
     "data": {
      "text/html": [
       "<style>\n",
       ".list-inline {list-style: none; margin:0; padding: 0}\n",
       ".list-inline>li {display: inline-block}\n",
       ".list-inline>li:not(:last-child)::after {content: \"\\00b7\"; padding: 0 .5ex}\n",
       "</style>\n",
       "<ol class=list-inline><li>1</li><li>2</li><li>3</li></ol>\n"
      ],
      "text/latex": [
       "\\begin{enumerate*}\n",
       "\\item 1\n",
       "\\item 2\n",
       "\\item 3\n",
       "\\end{enumerate*}\n"
      ],
      "text/markdown": [
       "1. 1\n",
       "2. 2\n",
       "3. 3\n",
       "\n",
       "\n"
      ],
      "text/plain": [
       "[1] 1 2 3"
      ]
     },
     "metadata": {},
     "output_type": "display_data"
    },
    {
     "data": {
      "text/html": [
       "'character'"
      ],
      "text/latex": [
       "'character'"
      ],
      "text/markdown": [
       "'character'"
      ],
      "text/plain": [
       "[1] \"character\""
      ]
     },
     "metadata": {},
     "output_type": "display_data"
    },
    {
     "data": {
      "text/html": [
       "'numeric'"
      ],
      "text/latex": [
       "'numeric'"
      ],
      "text/markdown": [
       "'numeric'"
      ],
      "text/plain": [
       "[1] \"numeric\""
      ]
     },
     "metadata": {},
     "output_type": "display_data"
    }
   ],
   "source": [
    "## Arrays\n",
    "\n",
    "c(1,2,3)\n",
    "v1=c(\"s\",\"e\",\"r\",\"e\",\"n\",\"a\")\n",
    "v2=c(1,2,3,4)\n",
    "\n",
    "mode(v1)\n",
    "mode(v2)"
   ]
  },
  {
   "cell_type": "code",
   "execution_count": 15,
   "id": "de509199-fe93-4c0c-aa3b-7057062bd729",
   "metadata": {},
   "outputs": [
    {
     "data": {
      "text/html": [
       "<style>\n",
       ".list-inline {list-style: none; margin:0; padding: 0}\n",
       ".list-inline>li {display: inline-block}\n",
       ".list-inline>li:not(:last-child)::after {content: \"\\00b7\"; padding: 0 .5ex}\n",
       "</style>\n",
       "<ol class=list-inline><li>1</li><li>2</li><li>3</li><li>4</li></ol>\n"
      ],
      "text/latex": [
       "\\begin{enumerate*}\n",
       "\\item 1\n",
       "\\item 2\n",
       "\\item 3\n",
       "\\item 4\n",
       "\\end{enumerate*}\n"
      ],
      "text/markdown": [
       "1. 1\n",
       "2. 2\n",
       "3. 3\n",
       "4. 4\n",
       "\n",
       "\n"
      ],
      "text/plain": [
       "[1] 1 2 3 4"
      ]
     },
     "metadata": {},
     "output_type": "display_data"
    },
    {
     "data": {
      "text/html": [
       "<style>\n",
       ".list-inline {list-style: none; margin:0; padding: 0}\n",
       ".list-inline>li {display: inline-block}\n",
       ".list-inline>li:not(:last-child)::after {content: \"\\00b7\"; padding: 0 .5ex}\n",
       "</style>\n",
       "<ol class=list-inline><li>2</li><li>4</li><li>6</li><li>8</li></ol>\n"
      ],
      "text/latex": [
       "\\begin{enumerate*}\n",
       "\\item 2\n",
       "\\item 4\n",
       "\\item 6\n",
       "\\item 8\n",
       "\\end{enumerate*}\n"
      ],
      "text/markdown": [
       "1. 2\n",
       "2. 4\n",
       "3. 6\n",
       "4. 8\n",
       "\n",
       "\n"
      ],
      "text/plain": [
       "[1] 2 4 6 8"
      ]
     },
     "metadata": {},
     "output_type": "display_data"
    },
    {
     "data": {
      "text/html": [
       "<style>\n",
       ".list-inline {list-style: none; margin:0; padding: 0}\n",
       ".list-inline>li {display: inline-block}\n",
       ".list-inline>li:not(:last-child)::after {content: \"\\00b7\"; padding: 0 .5ex}\n",
       "</style>\n",
       "<ol class=list-inline><li>'1'</li><li>'2'</li><li>'3'</li><li>'4'</li></ol>\n"
      ],
      "text/latex": [
       "\\begin{enumerate*}\n",
       "\\item '1'\n",
       "\\item '2'\n",
       "\\item '3'\n",
       "\\item '4'\n",
       "\\end{enumerate*}\n"
      ],
      "text/markdown": [
       "1. '1'\n",
       "2. '2'\n",
       "3. '3'\n",
       "4. '4'\n",
       "\n",
       "\n"
      ],
      "text/plain": [
       "[1] \"1\" \"2\" \"3\" \"4\""
      ]
     },
     "metadata": {},
     "output_type": "display_data"
    },
    {
     "ename": "ERROR",
     "evalue": "Error in 2 * v2: argomento non numerico passato ad un operatore binario\n",
     "output_type": "error",
     "traceback": [
      "Error in 2 * v2: argomento non numerico passato ad un operatore binario\nTraceback:\n"
     ]
    }
   ],
   "source": [
    "## We can sort the array\n",
    "\n",
    "sort(v2)\n",
    "v2*2\n",
    "\n",
    "## It's possible to change the type of the array\n",
    "\n",
    "mode(v2) = \"character\"\n",
    "v2\n",
    "2*v2"
   ]
  },
  {
   "cell_type": "code",
   "execution_count": 17,
   "id": "7ae0030f-d206-41f1-9b0e-58793685f7a3",
   "metadata": {},
   "outputs": [
    {
     "data": {
      "text/html": [
       "<style>\n",
       ".list-inline {list-style: none; margin:0; padding: 0}\n",
       ".list-inline>li {display: inline-block}\n",
       ".list-inline>li:not(:last-child)::after {content: \"\\00b7\"; padding: 0 .5ex}\n",
       "</style>\n",
       "<ol class=list-inline><li>'a'</li><li>'a_to_num'</li><li>'c'</li><li>'d'</li><li>'m'</li><li>'v1'</li><li>'v2'</li><li>'variable'</li></ol>\n"
      ],
      "text/latex": [
       "\\begin{enumerate*}\n",
       "\\item 'a'\n",
       "\\item 'a\\_to\\_num'\n",
       "\\item 'c'\n",
       "\\item 'd'\n",
       "\\item 'm'\n",
       "\\item 'v1'\n",
       "\\item 'v2'\n",
       "\\item 'variable'\n",
       "\\end{enumerate*}\n"
      ],
      "text/markdown": [
       "1. 'a'\n",
       "2. 'a_to_num'\n",
       "3. 'c'\n",
       "4. 'd'\n",
       "5. 'm'\n",
       "6. 'v1'\n",
       "7. 'v2'\n",
       "8. 'variable'\n",
       "\n",
       "\n"
      ],
      "text/plain": [
       "[1] \"a\"        \"a_to_num\" \"c\"        \"d\"        \"m\"        \"v1\"       \"v2\"      \n",
       "[8] \"variable\""
      ]
     },
     "metadata": {},
     "output_type": "display_data"
    }
   ],
   "source": [
    "## Let's operate on the elements we have on our workspace\n",
    "ls() # listing everything there's on our workspace\n",
    "\n",
    "# Let's remove the first array\n",
    "rm(v1)\n",
    "\n",
    "# Let's clean up the console\n",
    "rm(list=ls())\n",
    "ls()"
   ]
  },
  {
   "cell_type": "code",
   "execution_count": null,
   "id": "847ae9c8-c4f6-4e31-bbba-84b73bdc0375",
   "metadata": {},
   "outputs": [],
   "source": []
  }
 ],
 "metadata": {
  "kernelspec": {
   "display_name": "R",
   "language": "R",
   "name": "ir"
  },
  "language_info": {
   "codemirror_mode": "r",
   "file_extension": ".r",
   "mimetype": "text/x-r-source",
   "name": "R",
   "pygments_lexer": "r",
   "version": "4.3.2"
  }
 },
 "nbformat": 4,
 "nbformat_minor": 5
}
