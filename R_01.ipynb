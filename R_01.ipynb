{
 "cells": [
  {
   "cell_type": "code",
   "execution_count": 1,
   "id": "77234b46-84c9-4914-9ac7-3d83cd64ba81",
   "metadata": {},
   "outputs": [
    {
     "name": "stdout",
     "output_type": "stream",
     "text": [
      "[1] \"hello world!\"\n"
     ]
    }
   ],
   "source": [
    "# Printing\n",
    "print(\"hello world!\")"
   ]
  },
  {
   "cell_type": "code",
   "execution_count": 3,
   "id": "1abfdfa1-a963-46cf-9abd-e7bf9ac0b11c",
   "metadata": {},
   "outputs": [
    {
     "data": {
      "text/html": [],
      "text/latex": [],
      "text/markdown": [],
      "text/plain": [
       "character(0)"
      ]
     },
     "metadata": {},
     "output_type": "display_data"
    },
    {
     "data": {
      "text/html": [
       "'C:/Git/angelobattaglia/r_notebooks'"
      ],
      "text/latex": [
       "'C:/Git/angelobattaglia/r\\_notebooks'"
      ],
      "text/markdown": [
       "'C:/Git/angelobattaglia/r_notebooks'"
      ],
      "text/plain": [
       "[1] \"C:/Git/angelobattaglia/r_notebooks\""
      ]
     },
     "metadata": {},
     "output_type": "display_data"
    }
   ],
   "source": [
    "# How many objects are in memory?\n",
    "ls()\n",
    "# What's the working directory? \n",
    "getwd()"
   ]
  },
  {
   "cell_type": "code",
   "execution_count": 6,
   "id": "48ddfd14-8131-4822-9a24-fac400216457",
   "metadata": {},
   "outputs": [
    {
     "data": {
      "text/html": [
       "'C:/Git'"
      ],
      "text/latex": [
       "'C:/Git'"
      ],
      "text/markdown": [
       "'C:/Git'"
      ],
      "text/plain": [
       "[1] \"C:/Git\""
      ]
     },
     "metadata": {},
     "output_type": "display_data"
    }
   ],
   "source": [
    "# Let's change the working directory\n",
    "setwd(\"C:/Git/\")\n",
    "# .. and verify if it changed\n",
    "getwd()"
   ]
  },
  {
   "cell_type": "code",
   "execution_count": 8,
   "id": "c3861e31-2603-452b-9c9e-d4769a82b749",
   "metadata": {},
   "outputs": [],
   "source": [
    "# Saving the entire workspace\n",
    "save.image(\"saved_workspace.RData\")"
   ]
  },
  {
   "cell_type": "code",
   "execution_count": null,
   "id": "59303116-2292-4825-b4b3-90bc611366dc",
   "metadata": {},
   "outputs": [],
   "source": []
  }
 ],
 "metadata": {
  "kernelspec": {
   "display_name": "R",
   "language": "R",
   "name": "ir"
  },
  "language_info": {
   "codemirror_mode": "r",
   "file_extension": ".r",
   "mimetype": "text/x-r-source",
   "name": "R",
   "pygments_lexer": "r",
   "version": "4.3.2"
  }
 },
 "nbformat": 4,
 "nbformat_minor": 5
}
