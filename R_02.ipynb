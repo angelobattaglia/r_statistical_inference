{
 "cells": [
  {
   "cell_type": "code",
   "execution_count": 1,
   "id": "83ff67cd-5b72-4b21-8521-adddda78ab5a",
   "metadata": {},
   "outputs": [],
   "source": [
    "### Normal Sample iid variables\n",
    "n = 10000 # seed\n",
    "x =  rnorm(n, 20, 2^0.5)\n",
    "\n",
    "marg = dnorm(x, 20, 2^0.5)\n",
    "congiunta = prod(marg)\n",
    "log_marg = dnorm(x, 20, 2^0.5, log=T)\n",
    "log_congiunta = sum(log_marg)"
   ]
  },
  {
   "cell_type": "code",
   "execution_count": 11,
   "id": "1b04c31d-f8b1-4b0a-bc7a-168fee96a248",
   "metadata": {},
   "outputs": [
    {
     "data": {
      "text/html": [
       "19.6447516575216"
      ],
      "text/latex": [
       "19.6447516575216"
      ],
      "text/markdown": [
       "19.6447516575216"
      ],
      "text/plain": [
       "[1] 19.64475"
      ]
     },
     "metadata": {},
     "output_type": "display_data"
    },
    {
     "data": {
      "text/html": [
       "3.99356775059002"
      ],
      "text/latex": [
       "3.99356775059002"
      ],
      "text/markdown": [
       "3.99356775059002"
      ],
      "text/plain": [
       "[1] 3.993568"
      ]
     },
     "metadata": {},
     "output_type": "display_data"
    },
    {
     "data": {
      "text/html": [
       "<style>\n",
       ".list-inline {list-style: none; margin:0; padding: 0}\n",
       ".list-inline>li {display: inline-block}\n",
       ".list-inline>li:not(:last-child)::after {content: \"\\00b7\"; padding: 0 .5ex}\n",
       "</style>\n",
       "<ol class=list-inline><li>19.6447516575216</li><li>3.99356775059002</li></ol>\n"
      ],
      "text/latex": [
       "\\begin{enumerate*}\n",
       "\\item 19.6447516575216\n",
       "\\item 3.99356775059002\n",
       "\\end{enumerate*}\n"
      ],
      "text/markdown": [
       "1. 19.6447516575216\n",
       "2. 3.99356775059002\n",
       "\n",
       "\n"
      ],
      "text/plain": [
       "[1] 19.644752  3.993568"
      ]
     },
     "metadata": {},
     "output_type": "display_data"
    }
   ],
   "source": [
    "## Another example\n",
    "\n",
    "n = 5 # seed for reproducibility\n",
    "x =  rnorm(n, 20, 2^0.5)\n",
    "# I compute the mean and the variance\n",
    "mean(x)\n",
    "var(x)\n",
    "# Then I put it in a vector\n",
    "c(mean(x), var(x))"
   ]
  },
  {
   "cell_type": "code",
   "execution_count": null,
   "id": "8e83f750-de50-4187-9a5d-e9cac7b828db",
   "metadata": {},
   "outputs": [],
   "source": []
  }
 ],
 "metadata": {
  "kernelspec": {
   "display_name": "R",
   "language": "R",
   "name": "ir"
  },
  "language_info": {
   "codemirror_mode": "r",
   "file_extension": ".r",
   "mimetype": "text/x-r-source",
   "name": "R",
   "pygments_lexer": "r",
   "version": "4.3.2"
  }
 },
 "nbformat": 4,
 "nbformat_minor": 5
}
